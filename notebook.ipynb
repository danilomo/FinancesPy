{
 "cells": [
  {
   "cell_type": "code",
   "execution_count": 7,
   "metadata": {},
   "outputs": [],
   "source": [
    "# import numpy and pandas, and DataFrame / Series\n",
    "import numpy as np\n",
    "import pandas as pd\n",
    "from pandas import DataFrame, Series\n",
    "# Set some pandas options\n",
    "pd.set_option('display.notebook_repr_html', False)\n",
    "pd.set_option('display.max_columns', 10)\n",
    "pd.set_option('display.max_rows', 10)\n",
    "# And some items for matplotlib\n",
    "%matplotlib inline\n",
    "import matplotlib.pyplot as plt\n",
    "import sys\n",
    "\n",
    "\n",
    "from finances import *\n",
    "from finances.categories import *\n"
   ]
  },
  {
   "cell_type": "code",
   "execution_count": 4,
   "metadata": {},
   "outputs": [
    {
     "data": {
      "text/plain": [
       "[[50.0, groceries, groceries],\n",
       " [40.0, groceries, groceries, 100.0, groceries, groceries],\n",
       " [],\n",
       " [],\n",
       " []]"
      ]
     },
     "execution_count": 4,
     "metadata": {},
     "output_type": "execute_result"
    }
   ],
   "source": [
    "def backend(folder):\n",
    "    return FilesystemBackend( folder )\n",
    "\n",
    "ac = Account( backend(\"./ws/\") )\n",
    "m = ac.month( \"mar\", 2018 )\n",
    "\n",
    "def get_records( iter_, fn = lambda _: True ):\n",
    "    return [ t for t in iter_ if fn(t) ]\n",
    "\n",
    "def total( iter_ ):\n",
    "    return float(sum( t.value for t in iter_ ))\n",
    "\n",
    "def filter_(r):\n",
    "    return r.is_groceries\n",
    "\n",
    "\n",
    "records_per_week = [ get_records(w.records(), filter_) for w in m.weeks() ]\n",
    "\n",
    "total_week = [ list(records) for records in records_per_week ]\n",
    "\n",
    "total_week\n"
   ]
  },
  {
   "cell_type": "code",
   "execution_count": 10,
   "metadata": {},
   "outputs": [],
   "source": [
    "class PieSection:\n",
    "    \n",
    "    def __init__( self, label, fn ):\n",
    "        self.label = label\n",
    "        self.fn = fn\n",
    "        self.transactions = []\n",
    "        self.next = None\n",
    "        \n",
    "    def add( self, transaction ):\n",
    "        if self.fn(transaction):\n",
    "            self.transactions.append(transaction)\n",
    "            return\n",
    "            \n",
    "        if self.next is not None:\n",
    "            self.next.add(transaction)\n",
    "            \n",
    "    def printLL(self):\n",
    "        print(self.label + str([ (t.value, t.categories[0].__class__.__name__) for t in self.transactions ]))\n",
    "        if(self.next):\n",
    "            self.next.printLL()\n",
    "            \n",
    "def section( label, fn = None ):\n",
    "    if fn is None:\n",
    "        fn = lambda t: t.is_of_category(categories.get_category(label))\n",
    "        \n",
    "    return PieSection( label, fn )\n",
    "\n",
    "def anything_else( label = \"Anything else\" ):\n",
    "    return PieSection(label, lambda _: True)\n",
    "\n",
    "def transaction_list(trans_list):\n",
    "    for t in trans_list:\n",
    "        yield parse_transaction(t)\n",
    "\n",
    "\n",
    "class PieChart:    \n",
    "    def __init__(self, sections):\n",
    "        self.sections = sections\n",
    "        self._make_linked_list()\n",
    "        self._head = sections[0]\n",
    "        \n",
    "    def add_transaction(self,trans):\n",
    "        self._head.add(trans)\n",
    "        \n",
    "    def _make_linked_list(self):\n",
    "        sections = self.sections\n",
    "        sect = sections[0]\n",
    "        \n",
    "        for s in sections[1:]:\n",
    "            sect.next = s\n",
    "            sect = s\n",
    "            \n",
    "    def as_data_frame(self):\n",
    "        labels = [ sc.label for sc in self.sections ]\n",
    "        values = [ total(sc.transactions) for sc in self.sections]\n",
    "        return pd.DataFrame({ \"values\": values, \"labels\": labels} , index = labels)"
   ]
  },
  {
   "cell_type": "code",
   "execution_count": 13,
   "metadata": {},
   "outputs": [
    {
     "data": {
      "image/png": "[encoded data removed]",
      "text/plain": [
       "<Figure size 360x360 with 1 Axes>"
      ]
     },
     "metadata": {},
     "output_type": "display_data"
    }
   ],
   "source": [
    "pc = PieChart([\n",
    "    section(\"groceries\"),\n",
    "    section(\"street_food\"),\n",
    "    section(\"rent\"),\n",
    "    section(\"train_ticket\")\n",
    "])\n",
    "\n",
    "for t in ac.month( \"mar\", 2018 ).records():\n",
    "    pc.add_transaction(t)\n",
    "\n",
    "df = pc.as_data_frame()\n",
    "plot = df.plot.pie(y='values', figsize=(5, 5))"
   ]
  },
  {
   "cell_type": "code",
   "execution_count": 15,
   "metadata": {},
   "outputs": [
    {
     "data": {
      "image/png": "[encoded data removed]",
      "text/plain": [
       "<Figure size 360x360 with 1 Axes>"
      ]
     },
     "metadata": {},
     "output_type": "display_data"
    }
   ],
   "source": [
    "pc = PieChart([\n",
    "    section(\"food\", lambda r: r.is_food or r._is_groceries),\n",
    "    section(\"rent\"),\n",
    "    section(\"train_ticket\")\n",
    "])\n",
    "\n",
    "for t in ac.month( \"mar\", 2018 ).records():\n",
    "    pc.add_transaction(t)\n",
    "\n",
    "df = pc.as_data_frame()\n",
    "plot = df.plot.pie(y='values', figsize=(5, 5))"
   ]
  }
 ],
 "metadata": {
  "kernelspec": {
   "display_name": "Python 3",
   "language": "python",
   "name": "python3"
  },
  "language_info": {
   "codemirror_mode": {
    "name": "ipython",
    "version": 3
   },
   "file_extension": ".py",
   "mimetype": "text/x-python",
   "name": "python",
   "nbconvert_exporter": "python",
   "pygments_lexer": "ipython3",
   "version": "3.6.5"
  }
 },
 "nbformat": 4,
 "nbformat_minor": 2
}
